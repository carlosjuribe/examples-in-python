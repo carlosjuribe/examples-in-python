{
 "cells": [
  {
   "cell_type": "markdown",
   "metadata": {},
   "source": [
    "### TODO\n",
    "- [ ] Create table of contents mimicking [this](https://sebastianraschka.com/Articles/2014_ipython_internal_links.html)\n",
    "- [ ] Export utils functions, like play_audio and tada, to outer file"
   ]
  },
  {
   "cell_type": "markdown",
   "metadata": {},
   "source": [
    "# 1) Determining if you want to buy that house\n",
    "\n",
    "### 1.1) Estimating the price of a house.\n",
    "\n",
    "Approximately, we could hypothesize this formula for the value of a house:\n",
    "\n",
    "> House value = $f$(space, landsize, location, rooms, bathrooms, ...)\n",
    "\n",
    "This function could be found through regression, but that would be missing a major component of real state: **Location**. To overcome this, we can use **hedonic regression**. An example of hedonic regression is the [CPI Index](https://en.wikipedia.org/wiki/Consumer_price_index), which decomposes baskets of generally bought items to come up with an index of inflation.\n",
    "\n",
    "### 1.2) Distances\n",
    "\n",
    "**Euclidean** distance:\n",
    "> $ d(x, y) = \\sqrt{\\sum_{i=0}^{n}(x_i - y_i)^2} $\n",
    "\n",
    "**Minkowski** distance:\n",
    "> $ d_p(x, y) = \\left( \\sum_{i=0}^{n} \\left| x_i - y_i \\right|^p \\right)^{1/p} $\n",
    ", where this $p$ can be any integer and still satisfy the tringle inequality\n",
    "\n",
    "**Cosine** similarity:\n",
    "> $ d(x, y) = \\frac{x · y}{\\mod{x} \\mod{y}} $\n",
    "\n",
    "**Manhattan** (or taxicab) distance:\n",
    "> $ d(x, y) = \\sum_{i=0}^{n} \\left|x_i - y_i \\right| $ \n",
    "\n",
    "**Levenshtein** distance:\n",
    "> ```python\n",
    "def lev(a, b):\n",
    "    \"\"\" For didactic purposes, not for real implementation \"\"\"\n",
    "    if not a: return b\n",
    "    if not b: return a\n",
    "    funcs = (lev(a[1:], b[1:]) + (a[0] != b[0]), \n",
    "             lev(a[1:], b) + 1,\n",
    "             lev(a, b[1:]) + 1)\n",
    "    return min(funcs) ```\n",
    "\n",
    "##### Statistical distances\n",
    "\n",
    "**Mahalanobis** distance:\n",
    "> $ d(x, y) = \\sqrt{ \\sum_{i=1}^{n} \\frac{(x_i - y_i)^2}{s_i^2} } $, <br> this distance takes into consideration other statistical factors, and not only spherical distance.\n",
    "\n",
    "**Jaccard** distance:\n",
    "> $ J(x, y) = \\frac{| X \\cap Y |}{|X \\cup Y|} $, <br> takes into consideration the population overlap: if the number of attributes for one class match another, then they would be overlapping and therefore close in distance, whereas if the classes have diverging attributes they wouldn't match and thus would be farther in distance."
   ]
  },
  {
   "cell_type": "markdown",
   "metadata": {},
   "source": [
    "### 1.3) The curse of dimensionality\n",
    "When we model high dimensions, our approximations of distance become less reliable. That's why **finding features** of datasets is essential to making a resilient model.\n",
    "\n",
    "### 1.4) How do we pick K?\n",
    "We have several approaches:\n",
    "- Guessing\n",
    "- Using a heuristic\n",
    "- Optimizing using an algorithm\n",
    "\n",
    "#### Heuristics examples:\n",
    "> * Use **coprime class and K** combinations: <br>\n",
    "  That would ensure no ties. For example, if we have 2 classes and K=3, it is impossible to have a tie.\n",
    "\n",
    "> * Choose a **K $\\geq$ numer of classes + 1**: <br>\n",
    "  Imagine that there are 3 classes: lawful, chaotic and neutral. It is good to pick K $\\geq$ 3 because *anything less will mean that there is no chance that each class will be represented*, and that would imply a bias. But since here the *number of classes and K are coprimes*, which allows for ties, we should increase K to at least 4.\n",
    "  \n",
    "> * Choose a K low enough to avoid noise:\n",
    "  As K increases, you approach the size of the entire dataset. If you were to pick it all, you would select the most common class.\n"
   ]
  },
  {
   "cell_type": "markdown",
   "metadata": {},
   "source": [
    "### 1.5) Valuing Houses in Seattle\n",
    "\n",
    "#### About the data\n",
    "Data source: [King County assessor site](http://www.kingcounty.gov/depts/assessor.aspx)\n",
    "\n",
    "#### KNN Regressor Construction\n",
    "We will utilize something called a [**KDTree**](https://en.wikipedia.org/wiki/K-d_tree) (more info [here](./References.md)). Here's the implementation:"
   ]
  },
  {
   "cell_type": "code",
   "execution_count": 24,
   "metadata": {},
   "outputs": [],
   "source": [
    "# The tada function will help us indicate when a series of cells have finished running\n",
    "from IPython.display import HTML, Audio\n",
    "\n",
    "def play_audio(sound_file: str):\n",
    "    \"\"\" Plays outloud sound_file \"\"\"\n",
    "    display(Audio(url=sound_file, autoplay=True))\n",
    "    \n",
    "    \n",
    "def tada():\n",
    "    tada_path = \"../../../tada.mp3\"\n",
    "    play_audio(tada_path)"
   ]
  },
  {
   "cell_type": "code",
   "execution_count": 50,
   "metadata": {},
   "outputs": [],
   "source": [
    "from scipy.spatial import KDTree  # our data structure for this example\n",
    "\n",
    "import pandas as pd\n",
    "import numpy as np\n",
    "import matplotlib.pyplot as plt\n",
    "import random\n",
    "import numpy.random as npr\n",
    "from sklearn.metrics import mean_absolute_error as MAE\n",
    "import sys\n",
    "from typing import List, Dict, Tuple, Set"
   ]
  },
  {
   "cell_type": "code",
   "execution_count": 136,
   "metadata": {},
   "outputs": [],
   "source": [
    "sys.setrecursionlimit(10000)\n",
    "\n",
    "class KNNRegressor(object):\n",
    "    \"\"\" \n",
    "    Performs kNN regression for housing data\n",
    "    \"\"\"\n",
    "    def __init__(self, csv_file: str=None, data=None, values=None): # TODO\n",
    "        \"\"\"\n",
    "        Reads input data and sets initial parameters\n",
    "        :param csv_file: \n",
    "        :param data: \n",
    "        :param values: \n",
    "        :return: \n",
    "        \"\"\"\n",
    "        # tags\n",
    "        APPRAISED_VALUE = 'AppraisedValue'\n",
    "        LAT = 'lat'\n",
    "        LONG = 'long'\n",
    "        SQFTLOT = 'SqFtLot'\n",
    "    \n",
    "        if (data is None and csv_file is not None):\n",
    "            df = pd.read_csv(csv_file)\n",
    "            self.values = df[APPRAISED_VALUE]  # Keep the value price of the house in values\n",
    "            df = df.drop(APPRAISED_VALUE, 1)\n",
    "            df = (df - df.mean()) / (df.max() - df.min())  # Normalize all columns so that distance makes sense\n",
    "            self.df = df\n",
    "            self.df = self.df[[LAT, LONG, SQFTLOT]]\n",
    "        elif (data is not None and values is not None):\n",
    "            self.df = data\n",
    "            self.values = values\n",
    "        else:\n",
    "            raise ValueError(\"Must have either csv_file or data set\")\n",
    "            \n",
    "        self.n = len(self.df)\n",
    "        self.kdtree = KDTree(self.df)  # trains the kd-tree with the data\n",
    "        self.metric = np.mean  # metric with which to perform the regression after the KNN\n",
    "        self.k = 5  # number of nearest neighbours to consider\n",
    "        \n",
    "    def regress(self, query_point:pd.Series) -> float:\n",
    "        \"\"\"\n",
    "        Calculates predicted house value with particular parameters\n",
    "        :param query_point: Series with house parameters\n",
    "        :return: house value\n",
    "        \"\"\"\n",
    "        # searches the point inside the kd-tree and returns the self.k nearest neighbours\n",
    "        distances, indexes = self.kdtree.query(query_point, self.k)  # return the indexes of the KNN\n",
    "        KNN_result = self.metric(self.values.iloc[indexes])  # apply aggregation function to the NN\n",
    "        if np.isnan(KNN_result):\n",
    "            raise Exception('KNN result is NaN')\n",
    "        else:\n",
    "            return KNN_result\n",
    "        \n",
    "    def error_rate(self, n_folds: int) -> List:\n",
    "        \"\"\"\n",
    "        Performs cross-validation with n_folds folds, returning a list of MAEs (of length n_folds)\n",
    "        :return: errors [List]\n",
    "        \"\"\"\n",
    "        holdout = 1 / float(n_folds)  # proportion of data that will be test data each iteration\n",
    "        errors = []\n",
    "        for _ in range(n_folds):\n",
    "            y_hat, y_true = self.__validation_data(holdout)  # perform the regression for given fold\n",
    "            errors.append(MAE(y_hat, y_true))\n",
    "            \n",
    "        return errors            \n",
    "            \n",
    "    def __validation_data(self, holdout: float) -> Tuple:\n",
    "        \"\"\"\n",
    "        Does train/test split, performs  the regression and returns (y_hat, y_actual)\n",
    "        :param holdout: proportion of data that will be test data\n",
    "        :return: (y_hat, y_actual) Predictions and real values for test set\n",
    "        \"\"\"\n",
    "        # do the train-test split by sampling indices at random (without replacement!)\n",
    "        test_rows_indexes = random.sample(population=self.df.index.to_list(), \n",
    "                                          k=int(round(len(self.df) * holdout)))\n",
    "        train_rows_indices = list(set(range(len(self.df))) - set(test_rows_indexes))\n",
    "        df_test = self.df.iloc[test_rows_indexes]\n",
    "        df_train = self.df.drop(test_rows_indexes)\n",
    "        test_values = self.values.iloc[test_rows_indexes]\n",
    "        train_values = self.values.iloc[train_rows_indices]\n",
    "        \n",
    "        kd_tree = KNNRegressor(data=df_train, values=train_values)\n",
    "        y_hat = y_actual = []\n",
    "        \n",
    "        for idx, row in df_test.iterrows():\n",
    "            y_hat.append(kd_tree.regress(row))\n",
    "            y_actual.append(self.values[idx])\n",
    "            \n",
    "        return y_hat, y_actual\n",
    "    \n",
    "    def plot_error_rates_for_k_folds(self, k: int=11):\n",
    "        \"\"\"\n",
    "        Plots MAEs VS number of number of folds, for k folds\n",
    "        \"\"\"\n",
    "        if k < 3:\n",
    "            raise ValueError(\"The number of folds must be >= 3\")\n",
    "            \n",
    "        # initialize df that contains the (fold => error) information\n",
    "        fold_ranges = range(2, k)\n",
    "        errors_df = pd.DataFrame({'max_error': 0, 'min_error': 0}, index=folds)\n",
    "        for n_folds in fold_ranges:\n",
    "            error_rates = self.error_rate(n_folds)\n",
    "            errors_df['max_error'][n_folds] = max(error_rates)\n",
    "            errors_df['min_error'][n_folds] = min(error_rates)\n",
    "        \n",
    "        errors_df.plot(title='MAE of KNN over different fold ranges')\n",
    "        plt.xlabel(\"Number of folds performed\")\n",
    "        plt.ylabel(\"MAE ($)\")\n",
    "        plt.show()"
   ]
  },
  {
   "cell_type": "code",
   "execution_count": null,
   "metadata": {},
   "outputs": [],
   "source": []
  },
  {
   "cell_type": "code",
   "execution_count": null,
   "metadata": {},
   "outputs": [],
   "source": []
  },
  {
   "cell_type": "code",
   "execution_count": 137,
   "metadata": {},
   "outputs": [],
   "source": [
    "house_prices_regressor = KNNRegressor(csv_file='./data/king_county_data_geocoded.csv')"
   ]
  },
  {
   "cell_type": "code",
   "execution_count": 138,
   "metadata": {},
   "outputs": [
    {
     "data": {
      "image/png": "[encoded data removed]",
      "text/plain": [
       "<Figure size 432x288 with 1 Axes>"
      ]
     },
     "metadata": {
      "needs_background": "light"
     },
     "output_type": "display_data"
    }
   ],
   "source": [
    "house_prices_regressor.plot_error_rates_for_k_folds(11)"
   ]
  },
  {
   "cell_type": "markdown",
   "metadata": {},
   "source": [
    "## Trying the official script"
   ]
  },
  {
   "cell_type": "code",
   "execution_count": 144,
   "metadata": {},
   "outputs": [],
   "source": [
    "import warnings\n",
    "warnings.filterwarnings(\"ignore\")"
   ]
  },
  {
   "cell_type": "code",
   "execution_count": 145,
   "metadata": {},
   "outputs": [
    {
     "data": {
      "image/png": "[encoded data removed]",
      "text/plain": [
       "<Figure size 432x288 with 1 Axes>"
      ]
     },
     "metadata": {
      "needs_background": "light"
     },
     "output_type": "display_data"
    },
    {
     "data": {
      "text/html": [
       "\n",
       "                <audio  controls=\"controls\" autoplay=\"autoplay\">\n",
       "                    <source src=\"../../../tada.mp3\" type=\"audio/mpeg\" />\n",
       "                    Your browser does not support the audio element.\n",
       "                </audio>\n",
       "              "
      ],
      "text/plain": [
       "<IPython.lib.display.Audio object>"
      ]
     },
     "metadata": {},
     "output_type": "display_data"
    }
   ],
   "source": [
    "%run regression.py\n",
    "\n",
    "tada()"
   ]
  },
  {
   "cell_type": "code",
   "execution_count": 139,
   "metadata": {},
   "outputs": [
    {
     "data": {
      "text/html": [
       "\n",
       "                <audio  controls=\"controls\" autoplay=\"autoplay\">\n",
       "                    <source src=\"../../../tada.mp3\" type=\"audio/mpeg\" />\n",
       "                    Your browser does not support the audio element.\n",
       "                </audio>\n",
       "              "
      ],
      "text/plain": [
       "<IPython.lib.display.Audio object>"
      ]
     },
     "metadata": {},
     "output_type": "display_data"
    }
   ],
   "source": []
  },
  {
   "cell_type": "code",
   "execution_count": null,
   "metadata": {},
   "outputs": [],
   "source": []
  },
  {
   "cell_type": "code",
   "execution_count": null,
   "metadata": {},
   "outputs": [],
   "source": [
    "def main():\n",
    "    "
   ]
  },
  {
   "cell_type": "code",
   "execution_count": null,
   "metadata": {},
   "outputs": [],
   "source": []
  },
  {
   "cell_type": "code",
   "execution_count": null,
   "metadata": {},
   "outputs": [],
   "source": []
  },
  {
   "cell_type": "code",
   "execution_count": null,
   "metadata": {},
   "outputs": [],
   "source": []
  },
  {
   "cell_type": "code",
   "execution_count": null,
   "metadata": {},
   "outputs": [],
   "source": []
  },
  {
   "cell_type": "markdown",
   "metadata": {},
   "source": [
    "***\n",
    "## [References](./references.md)"
   ]
  }
 ],
 "metadata": {
  "kernelspec": {
   "display_name": "Python 3",
   "language": "python",
   "name": "python3"
  },
  "language_info": {
   "codemirror_mode": {
    "name": "ipython",
    "version": 3
   },
   "file_extension": ".py",
   "mimetype": "text/x-python",
   "name": "python",
   "nbconvert_exporter": "python",
   "pygments_lexer": "ipython3",
   "version": "3.7.4"
  }
 },
 "nbformat": 4,
 "nbformat_minor": 4
}
