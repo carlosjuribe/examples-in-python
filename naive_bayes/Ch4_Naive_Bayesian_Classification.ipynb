{
 "cells": [
  {
   "cell_type": "markdown",
   "metadata": {},
   "source": [
    "### TODO\n",
    "- [ ] Create table of contents mimicking [this](https://sebastianraschka.com/Articles/2014_ipython_internal_links.html)\n",
    "- [ ] Export utils functions, like play_audio and tada, to outer file"
   ]
  },
  {
   "cell_type": "markdown",
   "metadata": {},
   "source": [
    "# Table of Contents:\n",
    "\n",
    "<!-- [Building the Spam Filter](Building the Spam Filter) <br> -->\n",
    "<!-- [Tokenization](Tokenization and Context) -->"
   ]
  },
  {
   "cell_type": "markdown",
   "metadata": {},
   "source": [
    "## How to Build a Spam Filter using Bayes Theorem\n",
    "---\n",
    "We want to build a Spam filter that classifies e-mails in two groups: **fraud** and **no fraud** sales.\n",
    "Our e-mails can have features like \"has_promotional_codes\" or \"has_giftcards\" that we could use to make better judgments about if an e-mail contains a fraudulent sale or not.\n",
    "But how do we feed this information to a spam classifier?\n",
    "\n",
    "We can convert this information to proportions (i.e., probabilities) and use Bayes theorem to train a classifier."
   ]
  },
  {
   "cell_type": "markdown",
   "metadata": {},
   "source": [
    "A **Naive Bayes Classifier** is a supervised and *probabilistic* learning model. It works well for problems where:\n",
    "* Data for which the inputs are independent from one another\n",
    "* Data where the probability of any attribute is greater than zero, always"
   ]
  },
  {
   "cell_type": "markdown",
   "metadata": {},
   "source": [
    "### Conidtional Probabilities\n",
    "\n",
    "\\begin{equation}\n",
    "P(A|B) = \\frac{P(A \\cap B)}{P(B)}\n",
    "\\end{equation}\n",
    "\n",
    "The **intersection function $ \\cap $** (informally called *cap* due to its shape) can also be thought of as the Boolean operator **AND** applied on sets. In Python it looks like:\n",
    "```python\n",
    "a = [1, 2, 3]; b = [1, 4, 5]\n",
    "\n",
    "set(a) & set(b)  # => {1}\n",
    "set(a).intersection(set(b)) == set(a) & set(b)  # => True\n",
    "```\n",
    "\n",
    "The **union function $\\cup$** (informally called *cup* due to its shape) can be thought of as the **OR** operator:\n",
    "```python\n",
    "set(a) | set(b)  # => {1, 2, 3, 4, 5}\n",
    "set(a).union(set(b)) == set(a) | set(b)  # => True\n",
    "```\n",
    "We can see the idea of conditional probability in Python like this:\n",
    "```python\n",
    "A, B = set(a), set(b)\n",
    "total_cases = len(A) + len(B)\n",
    "\n",
    "p_A_cap_B = len(A & B) / total_cases  # => 0.16, probability of intersection happening\n",
    "p_B = len(B) / total_cases  # => 0.5, probability of B happening\n",
    "\n",
    "# So, according to the conditional probability formula above\n",
    "p_A_given_B = p_A_cap_B / p_B  # => 0.333\n",
    "\n",
    "# which always satisfies the following inequality:\n",
    "p_B > p_A_given_B > p_A_cap_B  # => True\n",
    "```"
   ]
  },
  {
   "cell_type": "markdown",
   "metadata": {},
   "source": [
    "### Inverse Conditional Probability (*aka* Bayes Theorem)\n",
    "\n",
    "But what if we want to know the opposite case, that is, what if we want to know the probability of B, given A?.\n",
    "In that case, we can reason backwards and recalling that $ A \\cap B = B \\cap A $:\n",
    "\n",
    "From the conditional probability formula above, we know that\n",
    "$$ P(A \\cap B) = P(A|B)P(B) $$\n",
    "\n",
    "So, starting again with the conditional probability and substituting the expression for $ P(B \\cap A) $ we have\n",
    "$$ P(B|A) = \\frac{P(A \\cap B)}{P(A)} = \\frac{P(A|B)P(B)}{P(A)} $$\n",
    "\n",
    "which is known as **Bayes Theorem**. We state it again for simplicity:\n",
    "\n",
    "$$ P(B|A) = \\frac{P(A|B)P(B)}{P(A)} $$"
   ]
  },
  {
   "cell_type": "markdown",
   "metadata": {},
   "source": [
    "### Naive Bayesian Classifier"
   ]
  },
  {
   "cell_type": "markdown",
   "metadata": {},
   "source": [
    "#### The Chain Rule\n",
    "\n",
    "Using the joint probability, the previous result transforms into the chain rule.<br>\n",
    "Joint probabilities are the probability that all the events will happen at the same time. The generic form is:\n",
    "$$\n",
    "P(A_1, A_2, ..., A_n) = P(A_1)P(A_2|A_1)P(A_3 | A_1, A_2)···P(A_n | A_1, A_2, ..., A_{n-1})\n",
    "$$\n",
    "\n",
    "\n",
    "##### Navieté in Bayesian Reasoning\n",
    "\n",
    "Sometimes, when we strictly apply Bayes Theorem, we can run into trouble because we need to use values of probabilities that we cannot compute. For example, $ P(Promos | Giftcards, Fraud) $ can be very hard, or even impossible, to get.\n",
    "But we still need to get going. We solve this problem by doing a rather big assumption (the *Navieté assumption*) to help us proceed in cases where some information is too difficult or impossible to get. The **Navieté** assumption consists in **considering only the individual effect that each event (Giftcard, Promos, ...) has in the event we want to predict**, in our case, fraud sales e-mails.\n",
    "\n",
    "$$ \n",
    "\\text{what we want to know} = P(Fraud | Giftcard, Promos) = \\frac{P(Giftcard, Promos, Fraud)}{P(Giftcard, Promos)}\n",
    "$$\n",
    "\n",
    "$ P(Giftcard, Promos) $ is easy to obtain, and thanks to the Navieté assumption (no interdependence of things like *having promo codes* and *having giftcards* (which really is unrealistic) we can simplify the numerator to an expression that we can really work with, given our data. So our numerator becomes:\n",
    "\n",
    "$$ \n",
    "P(Giftcard, Promos, Fraud) = P(Fraud)P(Giftcard|Fraud)P(Promos|Fraud)\n",
    "$$\n",
    "\n",
    "and our final model being:\n",
    "\n",
    "$$\n",
    "P(Fraud | Giftcard, Promos) = \\frac{P(Fraud)P(Giftcard | Fraud)P(Promos | Fraud)}{P(Giftcard, Promos)}\n",
    "$$\n",
    "\n"
   ]
  },
  {
   "cell_type": "markdown",
   "metadata": {},
   "source": [
    "But what if something like $ P(Promos | Fraud) = 0 $? That could happen due to new information, or not considering enough data. In that case, since probabilites here are just divisions of counts, we use what's called a **pseudocount**, which is just the real count of a class plus 1. In that way, we ensure that every computed probability will be always greater than zero."
   ]
  },
  {
   "cell_type": "markdown",
   "metadata": {},
   "source": [
    "# Building the Spam Filter\n",
    "\n"
   ]
  },
  {
   "cell_type": "markdown",
   "metadata": {},
   "source": [
    "Here we have the coding design for this exercise:\n",
    "\n",
    "<img src=\"images/coding_design.jpeg\" style=\"width: 190px;\">\n",
    "\n",
    "Each `Email` object takes an `.eml` text file that then tokenizes into something that the `SpamTrainer` can utilize. <br>\n",
    "When testing, we will focus on the tradeoff between false positives and false negatives, since in this scenario, a **false positive** (filtering out an e-mail as SPAM when it is not) **could be very harmful for a business**. Thus, we will try to **minimize the false positive rate**."
   ]
  },
  {
   "cell_type": "markdown",
   "metadata": {},
   "source": [
    "#### Data source\n",
    "\n",
    "* **CSDMC2010 SPAM corpus** <br>\n",
    "This data set has 4,327 total messages, of which 2,949 are ham and 1,378 are spam."
   ]
  },
  {
   "cell_type": "markdown",
   "metadata": {},
   "source": [
    "## Intro to Test-Driven Development\n",
    "\n",
    "Let's first define the class that will appropriately parse the e-mails in the `.eml` text files:"
   ]
  },
  {
   "cell_type": "code",
   "execution_count": 49,
   "metadata": {},
   "outputs": [],
   "source": [
    "import unittest\n",
    "import io\n",
    "import re\n",
    "import email  # used in getting results\n",
    "from bs4 import BeautifulSoup  # used in getting expected results"
   ]
  },
  {
   "cell_type": "markdown",
   "metadata": {},
   "source": [
    "Test # 1: `EmailObject`"
   ]
  },
  {
   "cell_type": "code",
   "execution_count": 57,
   "metadata": {},
   "outputs": [],
   "source": [
    "class TestPlaintextEmailObject(unittest.TestCase):\n",
    "    \"\"\" Assumes there is a class EmailObject imported \"\"\"\n",
    "    \n",
    "    CRLF = \"\\r\\n\\r\\n\"  # carriage return and line feed. Separates headers\n",
    "    \n",
    "    def setUp(self):\n",
    "        \"\"\"\n",
    "        Doc\n",
    "        \"\"\"\n",
    "        self.plain_file = './tests/fixtures/plain.eml'\n",
    "        with open(self.plain_file, 'rb') as plaintext:\n",
    "            self.text = plaintext.read().decode('utf-8')\n",
    "            plaintext.seek(0)\n",
    "            self.plain_email = EmailObject(plaintext)  # expects binary files, not strings\n",
    "        \n",
    "    def test_parse_plain_body(self):\n",
    "        body_expected = self.CRLF.join(self.text.split(self.CRLF)[1:])  # split on CRLF, take all except first one\n",
    "        body_actual = self.plain_email.body()\n",
    "        # compare method result with expected result\n",
    "        self.asserEqual(body_actual, body_expected)\n",
    "        \n",
    "    def test_parses_the_subject(self):\n",
    "        subject_expected = re.search(pattern=\"Subject: (.*)\", string=self.text).group(1)  # Take group 1\n",
    "        subject_actual = self.plain_email.subject()\n",
    "        # compare\n",
    "        self.asserEqual(subject_actual, subject_expected)"
   ]
  },
  {
   "cell_type": "code",
   "execution_count": 58,
   "metadata": {},
   "outputs": [],
   "source": [
    "x = TestPlaintextEmailObject()"
   ]
  },
  {
   "cell_type": "markdown",
   "metadata": {},
   "source": [
    "Test # 2: `HTMLEmail`"
   ]
  },
  {
   "cell_type": "code",
   "execution_count": null,
   "metadata": {},
   "outputs": [],
   "source": [
    "class TestHTMLEmail(unittest.TestCase):\n",
    "    \"\"\" Assumes existence of an EmailObject \"\"\"\n",
    "    \n",
    "    def setUp(self):\n",
    "        # Prepare attributes to do the expected-vs-actual comparisons\n",
    "        with open('./tests/fixtures/html.eml') as html_file:\n",
    "            self.html = html_file.read().decode('utf-8')\n",
    "            self.html.seek(0)\n",
    "            \n",
    "            # save object output to be tested below\n",
    "            self.html_email = EmailObject(html_file)  # accepts binary text files\n",
    "            \n",
    "    def test_parses_stores_inner_text_html(self):\n",
    "        body = \"\\n\\n\".join(self.html.split(\"\\n\\n\")[1:])  # take all except first one\n",
    "        body_expected = BeautifulSoup(body).text\n",
    "        body_actual = self.html_email.body()  # tests object\n",
    "        self.assertEqual(body_actual, body_expected)\n",
    "        \n",
    "    def test_stores_subject(self):\n",
    "        subject_expected = re.search(pattern=\"Subject: (.*)\", string=self.html).group(1)\n",
    "        subject_actual = self.html_email.subject()  # tests object\n",
    "        self.assertEqual(subject_actual, subject_expected)"
   ]
  },
  {
   "cell_type": "code",
   "execution_count": null,
   "metadata": {},
   "outputs": [],
   "source": []
  },
  {
   "cell_type": "code",
   "execution_count": null,
   "metadata": {},
   "outputs": [],
   "source": []
  },
  {
   "cell_type": "markdown",
   "metadata": {},
   "source": [
    "Try methods here before putting them in the class"
   ]
  },
  {
   "cell_type": "code",
   "execution_count": null,
   "metadata": {},
   "outputs": [],
   "source": []
  },
  {
   "cell_type": "code",
   "execution_count": 60,
   "metadata": {},
   "outputs": [],
   "source": [
    "class EmailObject:\n",
    "    \"\"\" Parses incoming email messages \"\"\"\n",
    "    \n",
    "    CRLF = \"\\r\\n\\r\\n\"  # carriage return and line feed. Separates headers\n",
    "\n",
    "    def __init__(self, infile, category=None):\n",
    "        \"\"\" Initializes an Email with its filepath, label and data (i.e., text) \"\"\"\n",
    "        self.infile = infile\n",
    "        self.category = category\n",
    "        self.mail = email.message_from_binary_file(self.infile)\n",
    "    \n",
    "    def subject(self) -> str:\n",
    "        \"\"\" Extracts the subject of the email \"\"\"\n",
    "        return self.mail.get(\"Subject\")\n",
    "        \n",
    "    def body(self):\n",
    "        \"\"\" Extracts the body of the email \"\"\"\n",
    "        payload = self.mail.get_payload(decode=True)\n",
    "        content_type = self.mail.get_content_type()\n",
    "        if content_type == 'text/html':\n",
    "            return BeautifulSoup(payload).text\n",
    "        elif content_type == 'text/plain':\n",
    "            return payload\n",
    "        else:\n",
    "            return ''"
   ]
  },
  {
   "cell_type": "code",
   "execution_count": null,
   "metadata": {},
   "outputs": [],
   "source": []
  },
  {
   "cell_type": "markdown",
   "metadata": {},
   "source": [
    "### Tokenization and Context"
   ]
  },
  {
   "cell_type": "markdown",
   "metadata": {},
   "source": [
    "<img src=\"images/Tokenization.png\" style=\"width: 400px;\">"
   ]
  },
  {
   "cell_type": "code",
   "execution_count": null,
   "metadata": {},
   "outputs": [],
   "source": []
  },
  {
   "cell_type": "code",
   "execution_count": null,
   "metadata": {},
   "outputs": [],
   "source": []
  },
  {
   "cell_type": "code",
   "execution_count": null,
   "metadata": {},
   "outputs": [],
   "source": []
  },
  {
   "cell_type": "code",
   "execution_count": null,
   "metadata": {},
   "outputs": [],
   "source": []
  },
  {
   "cell_type": "code",
   "execution_count": null,
   "metadata": {},
   "outputs": [],
   "source": []
  },
  {
   "cell_type": "code",
   "execution_count": null,
   "metadata": {},
   "outputs": [],
   "source": []
  },
  {
   "cell_type": "code",
   "execution_count": null,
   "metadata": {},
   "outputs": [],
   "source": []
  },
  {
   "cell_type": "code",
   "execution_count": 74,
   "metadata": {},
   "outputs": [],
   "source": [
    "def test_parse_plain_body(self=None):\n",
    "        \"\"\"\n",
    "        Doc\n",
    "        \"\"\"\n",
    "        "
   ]
  },
  {
   "cell_type": "code",
   "execution_count": null,
   "metadata": {},
   "outputs": [],
   "source": []
  },
  {
   "cell_type": "code",
   "execution_count": null,
   "metadata": {},
   "outputs": [],
   "source": [
    "\n"
   ]
  },
  {
   "cell_type": "code",
   "execution_count": null,
   "metadata": {},
   "outputs": [],
   "source": []
  },
  {
   "cell_type": "code",
   "execution_count": null,
   "metadata": {},
   "outputs": [],
   "source": []
  },
  {
   "cell_type": "markdown",
   "metadata": {},
   "source": [
    "## [References](./references_ch4.md)"
   ]
  }
 ],
 "metadata": {
  "kernelspec": {
   "display_name": "Python 3",
   "language": "python",
   "name": "python3"
  },
  "language_info": {
   "codemirror_mode": {
    "name": "ipython",
    "version": 3
   },
   "file_extension": ".py",
   "mimetype": "text/x-python",
   "name": "python",
   "nbconvert_exporter": "python",
   "pygments_lexer": "ipython3",
   "version": "3.7.4"
  }
 },
 "nbformat": 4,
 "nbformat_minor": 4
}
